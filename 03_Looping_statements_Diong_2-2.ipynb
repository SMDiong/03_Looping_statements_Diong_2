{
 "cells": [
  {
   "cell_type": "markdown",
   "metadata": {},
   "source": [
    "# DSA Laboratory 2 Exercises\n",
    "#### Diong, Shan Marc C.\n",
    "#### BSCpE 2-2\n",
    "#### October 5, 2024\n",
    "GitHub Repo: https://github.com/SMDiong/03_Looping_statements_Diong_2"
   ]
  },
  {
   "cell_type": "markdown",
   "metadata": {},
   "source": [
    "## Lab 2 Exercise 1\n",
    "#### Calculate the result of a number raised to a power using recursion."
   ]
  },
  {
   "cell_type": "code",
   "execution_count": null,
   "metadata": {},
   "outputs": [],
   "source": [
    "# Define power function that use recursion\n",
    "def power(base, exponent):\n",
    "    # Check if exponent is Zero\n",
    "    if exponent == 0:\n",
    "        return 1\n",
    "    else:\n",
    "        return base * power(base, exponent - 1)\n",
    "\n",
    "\n",
    "# Ask the user for the input of values\n",
    "base = int(input(\"Please enter the base number: \"))\n",
    "exponent = int(input(\"Please enter the exponent: \"))\n",
    "\n",
    "# Return and print result\n",
    "power_result = power(base, exponent)\n",
    "print(f\"\\n{base} raised to the power of {exponent} is: {power_result}\")"
   ]
  },
  {
   "cell_type": "markdown",
   "metadata": {},
   "source": [
    "## Lab 2 Exercise 2\n",
    "#### Compute for the cube of integers in an array. "
   ]
  },
  {
   "cell_type": "code",
   "execution_count": null,
   "metadata": {},
   "outputs": [],
   "source": [
    "# Ask the user for the size of the array\n",
    "array_size = int(input(\"Please enter the size of the array: \"))\n",
    "\n",
    "# Ask the user to input the elements of the array, separated by spaces\n",
    "array_elements = list(map(int,input(\"Please enter the elements of the array separated by spaces: \").split()))\n",
    "\n",
    "# Convert the input string of numbers into an array of integers then calculate\n",
    "if len(array_elements) != array_size:\n",
    "    print(f\"\\nError! You need to enter exactly {array_size} array elements!\")\n",
    "else:\n",
    "    cube_elements = [str(element ** 3) for element in array_elements]\n",
    "\n",
    "# Print result separated by commas\n",
    "    print(f\"\\nThe cube of each element are: {', '.join(cube_elements)}\")"
   ]
  },
  {
   "cell_type": "markdown",
   "metadata": {},
   "source": [
    "## Lab 2 Exercise 3\n",
    "#### Generate a hollow square made of x based on the user's input of side length n."
   ]
  },
  {
   "cell_type": "code",
   "execution_count": null,
   "metadata": {},
   "outputs": [],
   "source": [
    "# Define hollow square function\n",
    "def hollow_square(n):\n",
    "    # Check if the side length is less than 2\n",
    "    if n < 3:\n",
    "        print(\"Side length must be at least 3 to form a hollow square!\")\n",
    "        return\n",
    "    \n",
    "    # Print the top of the hollow square\n",
    "    print(\"x\" * n)\n",
    "\n",
    "    # Loop each row\n",
    "    for i in range(1, n - 1):\n",
    "        print(\"x\" + \" \" * (n - 2) + \"x\")\n",
    "\n",
    "    # Print the bottom of the hollow square\n",
    "    print(\"x\" * n)\n",
    "\n",
    "\n",
    "# Ask the user to input the side length n of the square\n",
    "square_side_length = int(input(\"Please enter the side length of the square: \"))\n",
    "\n",
    "# Print result\n",
    "print('\\n')\n",
    "hollow_square(square_side_length)"
   ]
  },
  {
   "cell_type": "markdown",
   "metadata": {},
   "source": [
    "## Lab 2 Exercise 4\n",
    "#### Generate an inverted right triangle of asterisks * based on the user's input of height n."
   ]
  },
  {
   "cell_type": "code",
   "execution_count": null,
   "metadata": {},
   "outputs": [],
   "source": [
    "# Define inverted triangle function\n",
    "def inverted_triangle(n):\n",
    "    # Check if the triangle height is less than 2\n",
    "    if n < 2:\n",
    "        print(\"Triangle height must be at least 2 to form an inverted triangle!\")\n",
    "        return\n",
    "    \n",
    "    # Loop each row to make the triangle\n",
    "    for i in range(n, 0, -1):\n",
    "        print('*' * i)\n",
    "\n",
    "# Ask the user to input the height n of the triangle\n",
    "inverted_triangle_height = int(input(\"Please enter the height of an inverted right triangle: \"))\n",
    "\n",
    "# Print result\n",
    "print('\\n')\n",
    "inverted_triangle(inverted_triangle_height)"
   ]
  }
 ],
 "metadata": {
  "kernelspec": {
   "display_name": "Python 3",
   "language": "python",
   "name": "python3"
  },
  "language_info": {
   "codemirror_mode": {
    "name": "ipython",
    "version": 3
   },
   "file_extension": ".py",
   "mimetype": "text/x-python",
   "name": "python",
   "nbconvert_exporter": "python",
   "pygments_lexer": "ipython3",
   "version": "3.12.3"
  }
 },
 "nbformat": 4,
 "nbformat_minor": 2
}
